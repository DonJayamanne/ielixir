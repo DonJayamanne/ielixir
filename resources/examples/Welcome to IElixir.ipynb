{
 "cells": [
  {
   "cell_type": "markdown",
   "source": [
    "# Welcome to IElixir"
   ],
   "metadata": {}
  },
  {
   "cell_type": "markdown",
   "source": [
    "## Basic usage"
   ],
   "metadata": {}
  },
  {
   "cell_type": "markdown",
   "source": [
    "Each notebook consists of a number of cells, which serve as primary building blocks.\n",
    "There are **Markdown** cells (such as this one) that allow you to describe your work\n",
    "and **Elixir** cells to run your code!"
   ],
   "metadata": {}
  },
  {
   "cell_type": "code",
   "execution_count": null,
   "source": [
    "# This is an Elixir cell - as the name suggests that's where the code goes.\n",
    "# To evaluate this cell, you can either press the \"Evaluate\" button above\n",
    "# or use `Ctrl + Enter` (or Cmd + Enter on a Mac)!\n",
    "\n",
    "message = \"hey, grab yourself a cup of 🍵\""
   ],
   "outputs": [],
   "metadata": {}
  },
  {
   "cell_type": "code",
   "execution_count": null,
   "source": [],
   "outputs": [],
   "metadata": {}
  }
 ],
 "metadata": {
  "orig_nbformat": 4,
  "language_info": {
   "codemirror_mode": "ielixir",
   "file_extension": "ex",
   "mimetype": "text/x-ielixir",
   "name": "elixir",
   "nbconvert_exporter": "",
   "pygments_lexer": "elixir",
   "version": "1.12.0"
  },
  "kernelspec": {
   "name": "ielixir",
   "display_name": "Elixir",
   "language": "Elixir"
  }
 },
 "nbformat": 4,
 "nbformat_minor": 2
}
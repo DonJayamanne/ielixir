{
 "cells": [
  {
   "cell_type": "markdown",
   "metadata": {},
   "source": [
    "# Welcome to IElixir"
   ]
  },
  {
   "cell_type": "markdown",
   "metadata": {},
   "source": [
    "## Introduction"
   ]
  },
  {
   "cell_type": "markdown",
   "metadata": {},
   "source": [
    "We are happy you decided to give Jupyter with **IElixir kernel** a try, hopefully it empowers you to build great stuff! 🚀"
   ]
  },
  {
   "cell_type": "markdown",
   "metadata": {},
   "source": [
    "Jupyter is a tool for crafting interactive and collaborative code notebooks. It is primarily meant as a tool for rapid prototyping - think of it as an IEx session combined with your editor. You can also use it for authoring shareable articles that people can easily run and play around with. Package authors can write notebooks as interactive tutorials and include them in their repository, so that users can easily download and run them locally."
   ]
  },
  {
   "cell_type": "markdown",
   "metadata": {},
   "source": [
    "## Basic usage"
   ]
  },
  {
   "cell_type": "markdown",
   "metadata": {},
   "source": [
    "Each notebook consists of a number of cells, which serve as primary building blocks.\n",
    "There are **Markdown** cells (such as this one) that allow you to describe your work\n",
    "and **Elixir** cells to run your code!"
   ]
  },
  {
   "cell_type": "code",
   "execution_count": null,
   "metadata": {},
   "outputs": [],
   "source": [
    "# This is an Elixir cell - as the name suggests that's where the code goes.\n",
    "# To evaluate this cell, you can either press `Shift + Enter` - to create a new cell right after this one\n",
    "# or use `Ctrl + Enter` - to just perform evaluation!\n",
    "\n",
    "message = \"hey, grab yourself a cup of 🍵\""
   ]
  },
  {
   "cell_type": "markdown",
   "metadata": {},
   "source": [
    "Subsequent cells have access to the bindings you've defined:"
   ]
  },
  {
   "cell_type": "code",
   "execution_count": null,
   "metadata": {},
   "outputs": [],
   "source": [
    "String.replace(message, \"🍵\", \"☕\")"
   ]
  },
  {
   "cell_type": "markdown",
   "metadata": {},
   "source": [
    "Note however that bindings are global, so each cell execution sees all the stuff that has been created from the beginning of a Kernel session."
   ]
  },
  {
   "cell_type": "markdown",
   "metadata": {},
   "source": [
    "You can have more than one command inside a cell. But the output will be only the last:"
   ]
  },
  {
   "cell_type": "code",
   "execution_count": null,
   "metadata": {},
   "outputs": [],
   "source": [
    "data = \"📔\"\n",
    "bad_data = \"🦠\"\n",
    "\n",
    "# Unfortunately, only bad data will be returned"
   ]
  },
  {
   "cell_type": "markdown",
   "metadata": {},
   "source": [
    "At the same time, you can _print_ all the you want, and it will be printed as a separate output:"
   ]
  },
  {
   "cell_type": "code",
   "execution_count": null,
   "metadata": {},
   "outputs": [],
   "source": [
    "# IO module outputs data to stdout, so we can use it for wide output\n",
    "\n",
    "IO.inspect(data)\n",
    "IO.puts(bad_data)\n",
    "\n",
    "# The result of puts - :ok, that's what we are getting as an execution result of this cell"
   ]
  },
  {
   "cell_type": "markdown",
   "metadata": {},
   "source": [
    "## Kernel"
   ]
  },
  {
   "cell_type": "markdown",
   "metadata": {},
   "source": [
    "Each time you run a notebook - new Kernel is started. Think about it as an **IEx** session.\n",
    "\n",
    "Same as there, near each executed cell the autoincremented nuber is appeared, to help you follow the order of cell execution:"
   ]
  },
  {
   "cell_type": "code",
   "execution_count": null,
   "metadata": {},
   "outputs": [],
   "source": [
    "\"Look <--- at the [ ] brackets on the left of the cell. Same are for the result\"\n",
    "# Yes, you can run empty string as inside IEx"
   ]
  },
  {
   "cell_type": "markdown",
   "metadata": {},
   "source": [
    "Actually, that means that you can run a cell several times with different results, or even run previous cell, or skip a cell to run one after it and then to return:"
   ]
  },
  {
   "cell_type": "code",
   "execution_count": null,
   "metadata": {},
   "outputs": [],
   "source": [
    "# Let's skip this cell, and then run it several times:\n",
    "important_list = tl(important_list)\n",
    "\n",
    "# Run it until you get an ArgumentError"
   ]
  },
  {
   "cell_type": "code",
   "execution_count": null,
   "metadata": {},
   "outputs": [],
   "source": [
    "# This is the cell to be run first. \n",
    "\n",
    "important_list = [\"⚽️\", \"🏀\", \"🏈\"]"
   ]
  },
  {
   "cell_type": "markdown",
   "metadata": {},
   "source": [
    "You can restart a kernel as many times as you want - if something goes wrong, you can start from the beginning.\n",
    "\n",
    "This can be done using `Kernel` menu tab in **Jupyter**'s menu bar. Let's try to do this now!"
   ]
  },
  {
   "cell_type": "markdown",
   "metadata": {},
   "source": [
    "Please, don't forget that all your **aliases**, **defined modules** and **variables** will not be accessible for new Kernel untill you will execute a code to create them"
   ]
  },
  {
   "cell_type": "code",
   "execution_count": null,
   "metadata": {},
   "outputs": [],
   "source": [
    "# Here let's try to access our variables again - and we'll see an error message that they are undefined:\n",
    "\n",
    "data"
   ]
  },
  {
   "cell_type": "markdown",
   "metadata": {},
   "source": [
    "Every time a new Kernel starts - it starts to count execution cells from 1."
   ]
  },
  {
   "cell_type": "markdown",
   "metadata": {},
   "source": [
    "## Notebook files"
   ]
  },
  {
   "cell_type": "markdown",
   "metadata": {},
   "source": [
    "By default, notebooks are stored on disk from the beginning of there lifetime. They are stored with **.ipynb** file format. \n",
    "It's a Json, that can store data not about only the cells content, but also about Kernel metadata, output and so on.\n",
    "\n",
    "This format is not so good for version controll, but fortunately **Jupyter** is so popular nowadays, that every **VCS** and **IDE** has it's own plugins to work with it.\n",
    "\n",
    "For example **VSCode**, **Gitlab** and **Github** can display these files in notebook and not a JSON format, that is very handy."
   ]
  },
  {
   "cell_type": "markdown",
   "metadata": {},
   "source": [
    "## Math"
   ]
  },
  {
   "cell_type": "markdown",
   "metadata": {},
   "source": [
    "Jupyter uses $\\TeX$ syntax for math.\n",
    "It supports both inline math like $e^{\\pi i} + 1 = 0$, as well as display math:\n",
    "\n",
    "$$\n",
    "S(x) = \\frac{1}{1 + e^{-x}} = \\frac{e^{x}}{e^{x} + 1}\n",
    "$$\n",
    "\n",
    "You can explore all supported expressions [here](https://katex.org/docs/supported.html)."
   ]
  },
  {
   "cell_type": "markdown",
   "metadata": {},
   "source": [
    "## Next steps"
   ]
  },
  {
   "cell_type": "markdown",
   "metadata": {},
   "source": [
    "That's our quick intro to IElixir! Where to go next?\n",
    "\n",
    "* If you are not familiar with Elixir, there is a fast paced\n",
    "  introduction to the language in the [Distributed portals\n",
    "  with Elixir](./Distributed%20portals%20with%20Elixir.ipynb)\n",
    "\n",
    "* Learn how Elixir integrates with Notebooks in the\n",
    "  [Elixir and Jupyter](/explore/notebooks/elixir-and-livebook) notebook;\n",
    "\n",
    "Now go ahead and build something cool! 🚢"
   ]
  }
 ],
 "metadata": {
  "kernelspec": {
   "display_name": "Elixir",
   "language": "Elixir",
   "name": "ielixir"
  },
  "language_info": {
   "codemirror_mode": "ielixir",
   "file_extension": "ex",
   "mimetype": "text/x-ielixir",
   "name": "elixir",
   "nbconvert_exporter": "",
   "pygments_lexer": "elixir",
   "version": "1.12.3"
  }
 },
 "nbformat": 4,
 "nbformat_minor": 4
}

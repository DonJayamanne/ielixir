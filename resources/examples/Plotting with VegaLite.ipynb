{
 "cells": [
  {
   "cell_type": "markdown",
   "id": "b381bea5-1395-46f9-8169-869d155def29",
   "metadata": {},
   "source": [
    "# Plotting with VegaLite"
   ]
  },
  {
   "cell_type": "markdown",
   "id": "42d8d1ab-ce51-486b-a44f-667f029eb39a",
   "metadata": {},
   "source": [
    "## Setup"
   ]
  },
  {
   "cell_type": "markdown",
   "id": "9ee98e5c-23eb-441e-9d4a-64704cf3171c",
   "metadata": {},
   "source": [
    "To render graphs in Livebook, we need the\n",
    "[`vega_lite`](https://github.com/elixir-nx/vega_lite) package\n",
    "for defining our graph specification"
   ]
  },
  {
   "cell_type": "code",
   "execution_count": 1,
   "id": "8f5754f8-f9d1-4d0d-bb8d-90ab94f6f16e",
   "metadata": {},
   "outputs": [
    {
     "name": "stdout",
     "output_type": "stream",
     "text": [
      "Generated vega_lite app\n",
      "\n",
      "==> vega_lite\n",
      "Compiling 5 files (.ex)\n",
      "\n",
      "Resolving Hex dependencies...\n",
      "Dependency resolution completed:\n",
      "New:\n",
      "\u001b[32m  vega_lite 0.1.1\u001b[31m\u001b[0m\n",
      "* Getting vega_lite (Hex package)\n"
     ]
    },
    {
     "data": {
      "text/plain": [
       "\u001b[34m:ok\u001b[0m"
      ]
     },
     "execution_count": 1,
     "metadata": {},
     "output_type": "execute_result"
    }
   ],
   "source": [
    "Mix.install([\n",
    "  {:vega_lite, \"~> 0.1.0\"}\n",
    "])"
   ]
  },
  {
   "cell_type": "markdown",
   "id": "e6fb70e6-6aef-4f2a-8135-41e014ec4702",
   "metadata": {},
   "source": [
    "`IElixir` knows how to render **VegaLite** plots by itself - you don't need to use any side libraries for it! The only thing you need - is to get it's schema representation using `VegaLite.to_spec/1` function.\n",
    "\n",
    "Alternative way - is to define `IElixir.Display` protocol for `VegaLite` structure, that will call this function automatically for us. We will do it in the beginning of this notebook:"
   ]
  },
  {
   "cell_type": "code",
   "execution_count": 2,
   "id": "197bf64d-2ff2-470b-b266-ba166c0f1d33",
   "metadata": {},
   "outputs": [
    {
     "data": {
      "text/plain": [
       "{\u001b[34m:module\u001b[0m, \u001b[34mIElixir.Displayable.VegaLite\u001b[0m,\n",
       " <<\u001b[34m70\u001b[0m, \u001b[34m79\u001b[0m, \u001b[34m82\u001b[0m, \u001b[34m49\u001b[0m, \u001b[34m0\u001b[0m, \u001b[34m0\u001b[0m, \u001b[34m7\u001b[0m, \u001b[34m76\u001b[0m, \u001b[34m66\u001b[0m, \u001b[34m69\u001b[0m, \u001b[34m65\u001b[0m, \u001b[34m77\u001b[0m, \u001b[34m65\u001b[0m, \u001b[34m116\u001b[0m, \u001b[34m85\u001b[0m, \u001b[34m56\u001b[0m, \u001b[34m0\u001b[0m, \u001b[34m0\u001b[0m, \u001b[34m0\u001b[0m, \u001b[34m242\u001b[0m, \u001b[34m0\u001b[0m, \u001b[34m0\u001b[0m, \u001b[34m0\u001b[0m, \u001b[34m21\u001b[0m, \u001b[34m35\u001b[0m, \u001b[34m69\u001b[0m,\n",
       "   \u001b[34m108\u001b[0m, \u001b[34m105\u001b[0m, \u001b[34m120\u001b[0m, \u001b[34m105\u001b[0m, \u001b[34m114\u001b[0m, \u001b[34m46\u001b[0m, \u001b[34m73\u001b[0m, \u001b[34m69\u001b[0m, \u001b[34m108\u001b[0m, \u001b[34m105\u001b[0m, \u001b[34m120\u001b[0m, \u001b[34m105\u001b[0m, \u001b[34m114\u001b[0m, \u001b[34m46\u001b[0m, \u001b[34m68\u001b[0m, \u001b[34m105\u001b[0m, \u001b[34m115\u001b[0m, \u001b[34m112\u001b[0m, \u001b[34m108\u001b[0m, \u001b[34m97\u001b[0m,\n",
       "   \u001b[34m121\u001b[0m, ...>>, {\u001b[34m:__impl__\u001b[0m, \u001b[34m1\u001b[0m}}"
      ]
     },
     "execution_count": 2,
     "metadata": {},
     "output_type": "execute_result"
    }
   ],
   "source": [
    "defimpl IElixir.Displayable, for: VegaLite do\n",
    "  def display(vl), do: VegaLite.to_spec(vl)\n",
    "end"
   ]
  },
  {
   "cell_type": "markdown",
   "id": "70ba0a5c-d287-4e40-b57e-3288dfd2cffa",
   "metadata": {},
   "source": [
    "When building graphics we make extensive use of the functions from `VegaLite`,\n",
    "so it's useful to alias the module as something shorter."
   ]
  },
  {
   "cell_type": "code",
   "execution_count": 3,
   "id": "73e238dc-7c32-499f-a0c0-555aef9b4e3e",
   "metadata": {},
   "outputs": [
    {
     "data": {
      "text/plain": [
       "\u001b[34mVegaLite\u001b[0m"
      ]
     },
     "execution_count": 3,
     "metadata": {},
     "output_type": "execute_result"
    }
   ],
   "source": [
    "alias VegaLite, as: Vl"
   ]
  },
  {
   "cell_type": "markdown",
   "id": "c75cf91c-af00-4e20-aa42-05548a62e165",
   "metadata": {},
   "source": [
    "## Basic concepts"
   ]
  },
  {
   "cell_type": "markdown",
   "id": "bff5c532-e40e-477b-b78b-903a23154d60",
   "metadata": {},
   "source": [
    "Composing a basic Vega-Lite graphic usually consists of the following steps:"
   ]
  },
  {
   "cell_type": "code",
   "execution_count": 4,
   "id": "d86f58a1-19aa-49bb-9af3-d31ecc6332bb",
   "metadata": {},
   "outputs": [
    {
     "data": {
      "application/vnd.vegalite.v4+json": {
       "$schema": "https://vega.github.io/schema/vega-lite/v4.json",
       "data": {
        "values": [
         {
          "iteration": 1,
          "score": 1
         },
         {
          "iteration": 2,
          "score": 2
         },
         {
          "iteration": 3,
          "score": 3
         },
         {
          "iteration": 4,
          "score": 4
         },
         {
          "iteration": 5,
          "score": 5
         },
         {
          "iteration": 6,
          "score": 6
         },
         {
          "iteration": 7,
          "score": 7
         },
         {
          "iteration": 8,
          "score": 8
         },
         {
          "iteration": 9,
          "score": 9
         },
         {
          "iteration": 10,
          "score": 10
         },
         {
          "iteration": 11,
          "score": 11
         },
         {
          "iteration": 12,
          "score": 12
         },
         {
          "iteration": 13,
          "score": 13
         },
         {
          "iteration": 14,
          "score": 14
         },
         {
          "iteration": 15,
          "score": 15
         },
         {
          "iteration": 16,
          "score": 16
         },
         {
          "iteration": 17,
          "score": 17
         },
         {
          "iteration": 18,
          "score": 18
         },
         {
          "iteration": 19,
          "score": 19
         },
         {
          "iteration": 20,
          "score": 20
         },
         {
          "iteration": 21,
          "score": 21
         },
         {
          "iteration": 22,
          "score": 22
         },
         {
          "iteration": 23,
          "score": 23
         },
         {
          "iteration": 24,
          "score": 24
         },
         {
          "iteration": 25,
          "score": 25
         },
         {
          "iteration": 26,
          "score": 26
         },
         {
          "iteration": 27,
          "score": 27
         },
         {
          "iteration": 28,
          "score": 28
         },
         {
          "iteration": 29,
          "score": 29
         },
         {
          "iteration": 30,
          "score": 30
         },
         {
          "iteration": 31,
          "score": 31
         },
         {
          "iteration": 32,
          "score": 32
         },
         {
          "iteration": 33,
          "score": 33
         },
         {
          "iteration": 34,
          "score": 34
         },
         {
          "iteration": 35,
          "score": 35
         },
         {
          "iteration": 36,
          "score": 36
         },
         {
          "iteration": 37,
          "score": 37
         },
         {
          "iteration": 38,
          "score": 38
         },
         {
          "iteration": 39,
          "score": 39
         },
         {
          "iteration": 40,
          "score": 40
         },
         {
          "iteration": 41,
          "score": 41
         },
         {
          "iteration": 42,
          "score": 42
         },
         {
          "iteration": 43,
          "score": 43
         },
         {
          "iteration": 44,
          "score": 44
         },
         {
          "iteration": 45,
          "score": 45
         },
         {
          "iteration": 46,
          "score": 46
         },
         {
          "iteration": 47,
          "score": 47
         },
         {
          "iteration": 48,
          "score": 48
         },
         {
          "iteration": 49,
          "score": 49
         },
         {
          "iteration": 50,
          "score": 50
         },
         {
          "iteration": 51,
          "score": 51
         },
         {
          "iteration": 52,
          "score": 52
         },
         {
          "iteration": 53,
          "score": 53
         },
         {
          "iteration": 54,
          "score": 54
         },
         {
          "iteration": 55,
          "score": 55
         },
         {
          "iteration": 56,
          "score": 56
         },
         {
          "iteration": 57,
          "score": 57
         },
         {
          "iteration": 58,
          "score": 58
         },
         {
          "iteration": 59,
          "score": 59
         },
         {
          "iteration": 60,
          "score": 60
         },
         {
          "iteration": 61,
          "score": 61
         },
         {
          "iteration": 62,
          "score": 62
         },
         {
          "iteration": 63,
          "score": 63
         },
         {
          "iteration": 64,
          "score": 64
         },
         {
          "iteration": 65,
          "score": 65
         },
         {
          "iteration": 66,
          "score": 66
         },
         {
          "iteration": 67,
          "score": 67
         },
         {
          "iteration": 68,
          "score": 68
         },
         {
          "iteration": 69,
          "score": 69
         },
         {
          "iteration": 70,
          "score": 70
         },
         {
          "iteration": 71,
          "score": 71
         },
         {
          "iteration": 72,
          "score": 72
         },
         {
          "iteration": 73,
          "score": 73
         },
         {
          "iteration": 74,
          "score": 74
         },
         {
          "iteration": 75,
          "score": 75
         },
         {
          "iteration": 76,
          "score": 76
         },
         {
          "iteration": 77,
          "score": 77
         },
         {
          "iteration": 78,
          "score": 78
         },
         {
          "iteration": 79,
          "score": 79
         },
         {
          "iteration": 80,
          "score": 80
         },
         {
          "iteration": 81,
          "score": 81
         },
         {
          "iteration": 82,
          "score": 82
         },
         {
          "iteration": 83,
          "score": 83
         },
         {
          "iteration": 84,
          "score": 84
         },
         {
          "iteration": 85,
          "score": 85
         },
         {
          "iteration": 86,
          "score": 86
         },
         {
          "iteration": 87,
          "score": 87
         },
         {
          "iteration": 88,
          "score": 88
         },
         {
          "iteration": 89,
          "score": 89
         },
         {
          "iteration": 90,
          "score": 90
         },
         {
          "iteration": 91,
          "score": 91
         },
         {
          "iteration": 92,
          "score": 92
         },
         {
          "iteration": 93,
          "score": 93
         },
         {
          "iteration": 94,
          "score": 94
         },
         {
          "iteration": 95,
          "score": 95
         },
         {
          "iteration": 96,
          "score": 96
         },
         {
          "iteration": 97,
          "score": 97
         },
         {
          "iteration": 98,
          "score": 98
         },
         {
          "iteration": 99,
          "score": 99
         },
         {
          "iteration": 100,
          "score": 100
         }
        ]
       },
       "encoding": {
        "x": {
         "field": "iteration",
         "type": "quantitative"
        },
        "y": {
         "field": "score",
         "type": "quantitative"
        }
       },
       "height": 400,
       "mark": "line",
       "width": 400
      },
      "image/png": "[encoded data removed]"
     },
     "execution_count": 4,
     "metadata": {},
     "output_type": "execute_result"
    }
   ],
   "source": [
    "# Initialize the specification, optionally with some top-level properties\n",
    "Vl.new(width: 400, height: 400)\n",
    "# Specify data source for the graphic using one of the data_from_* functions\n",
    "|> Vl.data_from_series(iteration: 1..100, score: 1..100)\n",
    "# Pick a visual mark\n",
    "|> Vl.mark(:line)\n",
    "# Map data fields to visual properties of the mark, in this case point positions\n",
    "|> Vl.encode_field(:x, \"iteration\", type: :quantitative)\n",
    "|> Vl.encode_field(:y, \"score\", type: :quantitative)"
   ]
  },
  {
   "cell_type": "markdown",
   "id": "98d0f700-7673-4293-9b51-924483a06b1e",
   "metadata": {},
   "source": [
    "Below you can find a number of example graphics for common use cases.\n",
    "For a number of plain Vega-Lite examples you can look\n",
    "[here](https://vega.github.io/vega-lite/examples)."
   ]
  },
  {
   "cell_type": "markdown",
   "id": "8dd35aab-3cdb-406a-8539-29e5050e7bb3",
   "metadata": {},
   "source": [
    "## Bar charts"
   ]
  },
  {
   "cell_type": "markdown",
   "id": "118862df-292a-4d58-966b-91616914c4d4",
   "metadata": {},
   "source": [
    "### Simple bar chart"
   ]
  },
  {
   "cell_type": "markdown",
   "id": "3beaf743-e04b-4901-9fa1-c7f5cec4d456",
   "metadata": {},
   "source": [
    "A bar chart encodes quantitative values as the length of regular bars."
   ]
  },
  {
   "cell_type": "code",
   "execution_count": 5,
   "id": "f0ecd930-7c73-43c1-89d6-e59ca919958f",
   "metadata": {},
   "outputs": [
    {
     "data": {
      "application/vnd.vegalite.v4+json": {
       "$schema": "https://vega.github.io/schema/vega-lite/v4.json",
       "data": {
        "values": [
         {
          "a": "A",
          "b": 28
         },
         {
          "a": "B",
          "b": 55
         },
         {
          "a": "C",
          "b": 43
         },
         {
          "a": "D",
          "b": 91
         },
         {
          "a": "E",
          "b": 81
         },
         {
          "a": "F",
          "b": 53
         },
         {
          "a": "G",
          "b": 19
         },
         {
          "a": "H",
          "b": 87
         },
         {
          "a": "I",
          "b": 52
         }
        ]
       },
       "encoding": {
        "x": {
         "axis": {
          "labelAngle": 0
         },
         "field": "a",
         "type": "nominal"
        },
        "y": {
         "field": "b",
         "type": "quantitative"
        }
       },
       "height": 300,
       "mark": "bar",
       "width": 400
      },
      "image/png": "[encoded data removed]"
     },
     "execution_count": 5,
     "metadata": {},
     "output_type": "execute_result"
    }
   ],
   "source": [
    "# Source: https://vega.github.io/vega-lite/examples/bar.html\n",
    "\n",
    "data = [\n",
    "  %{\"a\" => \"A\", \"b\" => 28},\n",
    "  %{\"a\" => \"B\", \"b\" => 55},\n",
    "  %{\"a\" => \"C\", \"b\" => 43},\n",
    "  %{\"a\" => \"D\", \"b\" => 91},\n",
    "  %{\"a\" => \"E\", \"b\" => 81},\n",
    "  %{\"a\" => \"F\", \"b\" => 53},\n",
    "  %{\"a\" => \"G\", \"b\" => 19},\n",
    "  %{\"a\" => \"H\", \"b\" => 87},\n",
    "  %{\"a\" => \"I\", \"b\" => 52}\n",
    "]\n",
    "\n",
    "Vl.new(width: 400, height: 300)\n",
    "|> Vl.data_from_values(data)\n",
    "|> Vl.mark(:bar)\n",
    "|> Vl.encode_field(:x, \"a\", type: :nominal, axis: [label_angle: 0])\n",
    "|> Vl.encode_field(:y, \"b\", type: :quantitative)"
   ]
  },
  {
   "cell_type": "markdown",
   "id": "c1805ca3-3094-442c-9371-7ab594277c5c",
   "metadata": {},
   "source": [
    "### Stacked bar chart"
   ]
  },
  {
   "cell_type": "markdown",
   "id": "cf6f65d1-4015-4b68-8034-d207dfef3ae6",
   "metadata": {},
   "source": [
    "A stacked bar chart contains multi-color bars to represent\n",
    "several quantitive values at once."
   ]
  },
  {
   "cell_type": "code",
   "execution_count": null,
   "id": "decc97e6-ee19-4578-8ea4-69293808e1d6",
   "metadata": {},
   "outputs": [],
   "source": [
    "# Source: https://vega.github.io/vega-lite/examples/stacked_bar_weather.html\n",
    "\n",
    "Vl.new(width: 300, height: 200)\n",
    "|> Vl.data_from_url(\"https://vega.github.io/editor/data/seattle-weather.csv\")\n",
    "|> Vl.mark(:bar)\n",
    "|> Vl.encode_field(:x, \"date\", time_unit: :month, type: :ordinal, title: \"Month of the year\")\n",
    "|> Vl.encode(:y, aggregate: :count, type: :quantitative, title: \"Number of days\")\n",
    "|> Vl.encode_field(:color, \"weather\",\n",
    "  type: :nominal,\n",
    "  title: \"Weather type\",\n",
    "  scale: [\n",
    "    domain: [\"sun\", \"fog\", \"drizzle\", \"rain\", \"snow\"],\n",
    "    range: [\"#e7ba52\", \"#c7c7c7\", \"#aec7e8\", \"#1f77b4\", \"#9467bd\"]\n",
    "  ]\n",
    ")"
   ]
  },
  {
   "cell_type": "markdown",
   "id": "3f6bcdeb-d487-4ee9-8912-6a69029f29ca",
   "metadata": {},
   "source": [
    "### Grouped bar chart"
   ]
  },
  {
   "cell_type": "markdown",
   "id": "e26456fb-9089-4263-9f60-810578011f3e",
   "metadata": {},
   "source": [
    "Graphing one bar plot per group."
   ]
  },
  {
   "cell_type": "code",
   "execution_count": null,
   "id": "e3684637-5688-44da-9222-ae597d08fe8e",
   "metadata": {},
   "outputs": [],
   "source": [
    "# Source: https://vega.github.io/vega-lite/examples/bar_grouped.html\n",
    "\n",
    "Vl.new(width: [step: 12])\n",
    "|> Vl.data_from_url(\"https://vega.github.io/editor/data/population.json\")\n",
    "|> Vl.transform(filter: \"datum.year == 2000\")\n",
    "|> Vl.transform(calculate: \"datum.sex == 2 ? 'Female' : 'Male'\", as: \"gender\")\n",
    "|> Vl.mark(:bar)\n",
    "|> Vl.encode_field(:column, \"age\", type: :ordinal, spacing: 10)\n",
    "|> Vl.encode_field(:y, \"people\", aggregate: :sum, title: \"population\", axis: [grid: false])\n",
    "|> Vl.encode_field(:x, \"gender\", title: nil)\n",
    "|> Vl.encode_field(:color, \"gender\")\n",
    "|> Vl.config(view: [stroke: nil])"
   ]
  },
  {
   "cell_type": "markdown",
   "id": "de1bcf15-720d-47bc-86df-1d5f73ddd51e",
   "metadata": {},
   "source": [
    "## Histograms, density plots and dot plots"
   ]
  },
  {
   "cell_type": "markdown",
   "id": "2e1a4b62-6218-498a-8294-fdee9e8730c5",
   "metadata": {},
   "source": [
    "### Histogram"
   ]
  },
  {
   "cell_type": "markdown",
   "id": "b555cec7-acef-4024-a51e-d2d7fab66a91",
   "metadata": {},
   "source": [
    "A histogram represents the value frequency in predefined intervals."
   ]
  },
  {
   "cell_type": "code",
   "execution_count": null,
   "id": "ce99852a-8fe7-421e-b6e6-3a77ee815e00",
   "metadata": {},
   "outputs": [],
   "source": [
    "# Source: https://vega.github.io/vega-lite/examples/histogram.html\n",
    "\n",
    "Vl.new()\n",
    "|> Vl.data_from_url(\"https://vega.github.io/editor/data/movies.json\")\n",
    "|> Vl.mark(:bar)\n",
    "|> Vl.encode_field(:x, \"IMDB Rating\", bin: true)\n",
    "|> Vl.encode(:y, aggregate: :count)"
   ]
  },
  {
   "cell_type": "markdown",
   "id": "f9bf0ee0-2638-4659-938c-96647721567f",
   "metadata": {},
   "source": [
    "### Density plot"
   ]
  },
  {
   "cell_type": "markdown",
   "id": "d910fe7f-9438-49e5-8679-024dffcc95ed",
   "metadata": {},
   "source": [
    "A density plot represents the distribution estimate of a numeric value."
   ]
  },
  {
   "cell_type": "code",
   "execution_count": null,
   "id": "7d3f15ea-c7b5-4daf-aca7-b7f6fed8086d",
   "metadata": {},
   "outputs": [],
   "source": [
    "# Source: https://vega.github.io/vega-lite/examples/area_density.html\n",
    "\n",
    "Vl.new(width: 400, height: 100)\n",
    "|> Vl.data_from_url(\"https://vega.github.io/editor/data/movies.json\")\n",
    "|> Vl.transform(density: \"IMDB Rating\")\n",
    "|> Vl.mark(:area)\n",
    "|> Vl.encode_field(:x, \"value\", type: :quantitative, title: \"IMDB rating\")\n",
    "|> Vl.encode_field(:y, \"density\", type: :quantitative)"
   ]
  },
  {
   "cell_type": "markdown",
   "id": "db3de991-712e-4aa3-8dc8-773392e2ec43",
   "metadata": {},
   "source": [
    "### Stacked density estimates"
   ]
  },
  {
   "cell_type": "markdown",
   "id": "cb1e1fc6-08d0-4872-ab7b-d95a9e81c759",
   "metadata": {},
   "source": [
    "Several density plots stacked together."
   ]
  },
  {
   "cell_type": "code",
   "execution_count": null,
   "id": "2b302170-9100-47e4-a5cd-e604265ec7ac",
   "metadata": {},
   "outputs": [],
   "source": [
    "# Source: https://vega.github.io/vega-lite/examples/area_density_stacked.html\n",
    "\n",
    "Vl.new(width: 400, height: 80)\n",
    "|> Vl.data_from_url(\"https://vega.github.io/editor/data/penguins.json\")\n",
    "|> Vl.transform(density: \"Body Mass (g)\", groupby: [\"Species\"], extent: [2500, 6500])\n",
    "|> Vl.mark(:area)\n",
    "|> Vl.encode_field(:x, \"value\", type: :quantitative, title: \"Body mass (g)\")\n",
    "|> Vl.encode_field(:y, \"density\", type: :quantitative, stack: true)\n",
    "|> Vl.encode_field(:color, \"Species\", type: :nominal)"
   ]
  },
  {
   "cell_type": "markdown",
   "id": "2fc294aa-6141-4f2f-b0f7-8f43f6448ab8",
   "metadata": {},
   "source": [
    "### 2D Histogram scatterplot"
   ]
  },
  {
   "cell_type": "markdown",
   "id": "9a3bcd05-14ab-404f-885b-922616e2594f",
   "metadata": {},
   "source": [
    "A 2D version of a regular histogram, with intervals in both axis\n",
    "and frequency represented by point size."
   ]
  },
  {
   "cell_type": "code",
   "execution_count": null,
   "id": "c86b2f82-a14c-4f9e-9d6b-45e03f2365d8",
   "metadata": {},
   "outputs": [],
   "source": [
    "# Source: https://vega.github.io/vega-lite/examples/circle_binned.html\n",
    "\n",
    "Vl.new()\n",
    "|> Vl.data_from_url(\"https://vega.github.io/editor/data/movies.json\")\n",
    "|> Vl.mark(:circle)\n",
    "|> Vl.encode_field(:x, \"IMDB Rating\", bin: [maxbins: 10])\n",
    "|> Vl.encode_field(:y, \"Rotten Tomatoes Rating\", bin: [maxbins: 10])\n",
    "|> Vl.encode(:size, aggregate: :count)"
   ]
  },
  {
   "cell_type": "markdown",
   "id": "abcda895-b523-422d-990c-98693643cbc0",
   "metadata": {},
   "source": [
    "### 2D Histogram heatmap"
   ]
  },
  {
   "cell_type": "markdown",
   "id": "d17cb7b3-f97e-459c-b48b-0821afce71ce",
   "metadata": {},
   "source": [
    "Another version of 2D histogram, with color scale representing value frequency."
   ]
  },
  {
   "cell_type": "code",
   "execution_count": null,
   "id": "0e7e0a39-7792-4f19-8e01-c42d927c3368",
   "metadata": {},
   "outputs": [],
   "source": [
    "# Source: https://vega.github.io/vega-lite/examples/rect_binned_heatmap.html\n",
    "\n",
    "Vl.new(width: 300, height: 200)\n",
    "|> Vl.data_from_url(\"https://vega.github.io/editor/data/movies.json\")\n",
    "|> Vl.transform(\n",
    "  filter: [\n",
    "    and: [\n",
    "      [field: \"IMDB Rating\", valid: true],\n",
    "      [field: \"Rotten Tomatoes Rating\", valid: true]\n",
    "    ]\n",
    "  ]\n",
    ")\n",
    "|> Vl.mark(:rect)\n",
    "|> Vl.encode_field(:x, \"IMDB Rating\", bin: [maxbins: 60])\n",
    "|> Vl.encode_field(:y, \"Rotten Tomatoes Rating\", bin: [maxbins: 40])\n",
    "|> Vl.encode(:color, aggregate: :count)\n",
    "|> Vl.config(view: [stroke: nil])"
   ]
  },
  {
   "cell_type": "markdown",
   "id": "70eec3bc-3f51-40a9-a4ac-0c6f310bf3b1",
   "metadata": {},
   "source": [
    "### 2D Ordinal heatmap"
   ]
  },
  {
   "cell_type": "markdown",
   "id": "dd132f32-5042-402a-be97-92e485fcd459",
   "metadata": {},
   "source": [
    "A heatmap similar to the above, but with already discrete categories."
   ]
  },
  {
   "cell_type": "code",
   "execution_count": null,
   "id": "3d20444c-7e65-4689-8f46-e9f462469568",
   "metadata": {},
   "outputs": [],
   "source": [
    "# Source: https://vega.github.io/vega-lite/examples/rect_heatmap_weather.html\n",
    "\n",
    "Vl.new(title: \"Daily max temperatures (C) in Seattle, WA\")\n",
    "|> Vl.data_from_url(\"https://vega.github.io/editor/data/seattle-weather.csv\")\n",
    "|> Vl.mark(:rect)\n",
    "|> Vl.encode_field(:x, \"date\",\n",
    "  time_unit: :date,\n",
    "  type: :ordinal,\n",
    "  title: \"Day\",\n",
    "  axis: [label_angle: 0, format: \"%e\"]\n",
    ")\n",
    "|> Vl.encode_field(:y, \"date\",\n",
    "  time_unit: :month,\n",
    "  type: :ordinal,\n",
    "  title: \"Month\"\n",
    ")\n",
    "|> Vl.encode_field(:color, \"temp_max\",\n",
    "  aggregate: :max,\n",
    "  type: :quantitative,\n",
    "  legend: [title: nil]\n",
    ")\n",
    "|> Vl.config(view: [stroke: nil])"
   ]
  },
  {
   "cell_type": "markdown",
   "id": "0d73d0ad-e71a-4510-bac2-2df0e52b63b1",
   "metadata": {},
   "source": [
    "## Scatter and strip plots - TBD"
   ]
  }
 ],
 "metadata": {
  "kernelspec": {
   "display_name": "Elixir",
   "language": "Elixir",
   "name": "ielixir"
  },
  "language_info": {
   "codemirror_mode": "ielixir",
   "file_extension": "ex",
   "mimetype": "text/x-ielixir",
   "name": "elixir",
   "nbconvert_exporter": "",
   "pygments_lexer": "elixir",
   "version": "1.12.1"
  }
 },
 "nbformat": 4,
 "nbformat_minor": 5
}

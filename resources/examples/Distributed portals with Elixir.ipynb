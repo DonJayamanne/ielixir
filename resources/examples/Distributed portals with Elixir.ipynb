{
 "cells": [
  {
   "cell_type": "markdown",
   "id": "18150958-adb1-4e96-944c-eb5d6c1e6678",
   "metadata": {
    "tags": []
   },
   "source": [
    "# Distributed portals with Elixir"
   ]
  },
  {
   "cell_type": "markdown",
   "id": "c6402988-7d75-4356-a588-fb7c0bb328a4",
   "metadata": {
    "tags": []
   },
   "source": [
    "## Introduction"
   ]
  },
  {
   "cell_type": "markdown",
   "id": "62790336-d4b1-4d48-978a-507aa96fb887",
   "metadata": {},
   "source": [
    "This notebook is a fast-paced introduction to the Elixir\n",
    "programming language. We will explore both basic and advanced\n",
    "concepts to implement our own version of [the Portal\n",
    "game](http://en.wikipedia.org/wiki/Portal_(video_game)) to\n",
    "transfer data across notebooks using Elixir's distribution\n",
    "capabilities.\n",
    "\n",
    "For a more structured introduction to the language, see [Elixir's\n",
    "Getting Started guide](https://elixir-lang.org/getting-started/introduction.html)\n",
    "and [the many learning resources available](https://elixir-lang.org/learning.html)."
   ]
  },
  {
   "cell_type": "markdown",
   "id": "77e20e87-171f-4ac7-b094-24dd5dafcb17",
   "metadata": {
    "tags": []
   },
   "source": [
    "### The plan ahead"
   ]
  },
  {
   "cell_type": "markdown",
   "id": "a424dd8f-d781-4205-95b9-c945001fcdf3",
   "metadata": {},
   "source": [
    "The Portal game consists of a series of puzzles that must be\n",
    "solved by teleporting the player's character and simple objects\n",
    "from one place to another.\n",
    "\n",
    "In order to teleport, the player uses the Portal gun to shoot doors\n",
    "onto flat planes, like a floor or a wall. Entering one of those doors\n",
    "teleports you to the other:\n",
    "\n",
    "![](./images/portal-drop.jpeg)\n",
    "\n",
    "Our version of the Portal game will use Elixir to shoot doors of\n",
    "different colors and transfer data between them! We will even learn how\n",
    "we can distribute doors across different machines in our network:\n",
    "\n",
    "![](./images/portal-list.jpeg)"
   ]
  },
  {
   "cell_type": "markdown",
   "id": "4df9c649-7670-4f7e-9aa4-859ed00dee22",
   "metadata": {},
   "source": [
    "Here is what we will learn:\n",
    "\n",
    "  * Elixir's basic data structures\n",
    "  * Pattern matching\n",
    "  * Using agents for state\n",
    "  * Using structs for custom data structures\n",
    "  * Extending the language with protocols\n",
    "  * Supervision trees and applications\n",
    "\n"
   ]
  },
  {
   "cell_type": "markdown",
   "id": "57f16d93-9112-40ab-a908-81cca0212221",
   "metadata": {},
   "source": [
    "At the end of this notebook, we will make the following code work:\n",
    "    \n",
    "```ruby\n",
    "# Shoot two doors: one orange, another blue\n",
    "Portal.shoot(:orange)\n",
    "Portal.shoot(:blue)\n",
    "\n",
    "# Start transferring the list [1, 2, 3, 4] from orange to blue\n",
    "portal = Portal.transfer(:orange, :blue, [1, 2, 3, 4])\n",
    "\n",
    "# This will output:\n",
    "#\n",
    "#   #Portal<\n",
    "#          :orange <=> :blue\n",
    "#     [1, 2, 3, 4] <=> []\n",
    "#   >\n",
    "\n",
    "# Now every time we call push_right, data goes to blue\n",
    "Portal.push_right(portal)\n",
    "\n",
    "# This will output:\n",
    "#\n",
    "#   #Portal<\n",
    "#          :orange <=> :blue\n",
    "#        [1, 2, 3] <=> [4]\n",
    "#   >\n",
    "```"
   ]
  },
  {
   "cell_type": "markdown",
   "id": "f1bbb1a5-9f25-45c7-a2af-ef1b98902746",
   "metadata": {},
   "source": [
    "Intrigued? Let's get started!"
   ]
  },
  {
   "cell_type": "markdown",
   "id": "917ac5dc-78bf-45b9-8b9f-ad6b67a513f8",
   "metadata": {
    "tags": []
   },
   "source": [
    "## Basic data structures"
   ]
  },
  {
   "cell_type": "markdown",
   "id": "65a51e1c-4d5e-4027-bf2e-18f604d143fb",
   "metadata": {},
   "source": [
    "Elixir has numbers, strings, and variables. Code comments start with `#`:"
   ]
  },
  {
   "cell_type": "code",
   "execution_count": null,
   "id": "d6b7eaea-9042-4146-8cab-23fd66cefa20",
   "metadata": {},
   "outputs": [],
   "source": [
    "# Numbers\n",
    "IO.inspect(40 + 2)\n",
    "\n",
    "# Strings\n",
    "variable = \"hello\" <> \" world\"\n",
    "IO.inspect(variable)"
   ]
  },
  {
   "cell_type": "markdown",
   "id": "3ac28594-56eb-4575-a132-84468693345c",
   "metadata": {},
   "source": [
    "Executing the cell above prints the number `42` and the string\n",
    "`\"hello world\"`. To do so, we called the function `inspect` in\n",
    "the `IO` module, using the `IO.inspect(...)` notation. This function\n",
    "prints the given data structure to your terminal - in this case,\n",
    "our notebook - and returns the value given to it."
   ]
  },
  {
   "cell_type": "markdown",
   "id": "7e0f09c4-cf4f-4c1b-ac42-24208cd5a477",
   "metadata": {},
   "source": [
    "Elixir also has three special values, `true`, `false`, and `nil`.\n",
    "Everything in Elixir is considered to be a truthy value, except for\n",
    "`false` and `nil`:"
   ]
  },
  {
   "cell_type": "code",
   "execution_count": null,
   "id": "2b8437b7-ec30-49e9-a4b7-b1d3260e4a89",
   "metadata": {},
   "outputs": [],
   "source": [
    "# && is the logical and operator\n",
    "IO.inspect(true && true)\n",
    "IO.inspect(13 && 42)\n",
    "\n",
    "# || is the logical or operator\n",
    "IO.inspect(true || false)\n",
    "IO.inspect(nil || 42)"
   ]
  },
  {
   "cell_type": "markdown",
   "id": "8da160ab-f7a5-4953-9e4a-ae887ff5f43d",
   "metadata": {},
   "source": [
    "For working with collections of data, Elixir has three data types:"
   ]
  },
  {
   "cell_type": "code",
   "execution_count": null,
   "id": "cbe7ebc0-70cb-4651-874f-909197290639",
   "metadata": {},
   "outputs": [],
   "source": [
    "# Lists (typically hold a dynamic amount of items)\n",
    "IO.inspect([1, 2, \"three\"])\n",
    "\n",
    "# Tuples (typically hold a fixed amount of items)\n",
    "IO.inspect({:ok, \"value\"})\n",
    "\n",
    "# Maps (key-value data structures)\n",
    "IO.inspect(%{\"key\" => \"value\"})"
   ]
  },
  {
   "cell_type": "markdown",
   "id": "c838c713-8ea0-4aa2-9caa-4709c5f72ae1",
   "metadata": {},
   "source": [
    "In the snippet above, we also used a new data structure represented\n",
    "as `:ok`. All values starting with a leading `:` in Elixir are called\n",
    "**atoms**. Atoms are used as identifiers across the language. Common\n",
    "atoms are `:ok` and `:error`. Which brings us to the next topic: pattern\n",
    "matching."
   ]
  },
  {
   "cell_type": "markdown",
   "id": "1746715d-03bc-4430-99b7-b15f99dba5f0",
   "metadata": {
    "tags": []
   },
   "source": [
    "## Pattern matching"
   ]
  },
  {
   "cell_type": "markdown",
   "id": "29b77a3a-fa11-47cd-8c7d-98627020ab66",
   "metadata": {},
   "source": [
    "The `=` operator in Elixir is a bit different from the ones we see\n",
    "in other languages:"
   ]
  },
  {
   "cell_type": "code",
   "execution_count": null,
   "id": "b8c22c0e-6028-4295-b794-d9ff8ae1c40c",
   "metadata": {},
   "outputs": [],
   "source": [
    "x = 1\n",
    "x"
   ]
  },
  {
   "cell_type": "markdown",
   "id": "d06c0550-5421-4702-aa01-ccf620d7605c",
   "metadata": {},
   "source": [
    "So far so good, but what happens if we invert the operands?"
   ]
  },
  {
   "cell_type": "code",
   "execution_count": null,
   "id": "cd2dbdad-a76b-4e2e-98fe-630d7e002320",
   "metadata": {},
   "outputs": [],
   "source": [
    "1 = x"
   ]
  },
  {
   "cell_type": "markdown",
   "id": "f0d4b77c-5c7c-46b3-8fcf-718102495c3a",
   "metadata": {},
   "source": [
    "It worked! That's because Elixir tries to match the right side\n",
    "against the left side. Since both are set to `1`, it works. Let's\n",
    "try something else:"
   ]
  },
  {
   "cell_type": "code",
   "execution_count": null,
   "id": "2307974a-8ad0-4ce3-855d-48b53ac69421",
   "metadata": {},
   "outputs": [],
   "source": [
    "2 = x"
   ]
  },
  {
   "cell_type": "markdown",
   "id": "4828e98a-aba1-4ddd-b741-c637a6b69c05",
   "metadata": {},
   "source": [
    "Now the sides did not match, so we got an error. We use pattern\n",
    "matching in Elixir to match on collection too. For example, we\n",
    "can use `[head | tail]` to extract the head (the first element)\n",
    "and tail (the remaining ones) from a list:"
   ]
  },
  {
   "cell_type": "code",
   "execution_count": null,
   "id": "134d0d13-140f-4482-b7de-25ab6bb9da0a",
   "metadata": {},
   "outputs": [],
   "source": [
    "[head | tail] = [1, 2, 3]\n",
    "IO.inspect(head)\n",
    "IO.inspect(tail)"
   ]
  },
  {
   "cell_type": "markdown",
   "id": "dbe017d6-860f-48a4-85cf-1fc8c2f43f95",
   "metadata": {},
   "source": [
    "Matching an empty list against `[head | tail]` causes a match error:"
   ]
  },
  {
   "cell_type": "code",
   "execution_count": null,
   "id": "044e69a9-00ed-485e-92d1-2c5c7ecfec02",
   "metadata": {},
   "outputs": [],
   "source": [
    "[head | tail] = []"
   ]
  },
  {
   "cell_type": "markdown",
   "id": "bc1a2ba0-add0-49dd-88cb-f6eaa8bc9b48",
   "metadata": {},
   "source": [
    "Finally, we can also use the `[head | tail]` expression to add\n",
    "elements to the head of a list:"
   ]
  },
  {
   "cell_type": "code",
   "execution_count": null,
   "id": "b731414f-36ad-426f-8520-2667590e062b",
   "metadata": {},
   "outputs": [],
   "source": [
    "list = [1, 2, 3]\n",
    "[0 | list]"
   ]
  },
  {
   "cell_type": "markdown",
   "id": "3667c6c8-03a5-4f09-89f4-284f97dfac0f",
   "metadata": {},
   "source": [
    "We can also pattern match on tuples. This is often used to match\n",
    "on the return types of function calls. For example, take the function\n",
    "`Date.from_iso8601(string)`, which returns `{:ok, date}` if the\n",
    "string represents a valid date, in the format `YYYY-MM-DD`, otherwise\n",
    "it returns `{:error, reason}`:"
   ]
  },
  {
   "cell_type": "code",
   "execution_count": null,
   "id": "bbee21f5-13ee-491c-bc62-173d5b7d9bc3",
   "metadata": {},
   "outputs": [],
   "source": [
    "# A valid date\n",
    "Date.from_iso8601(\"2020-02-29\")"
   ]
  },
  {
   "cell_type": "code",
   "execution_count": null,
   "id": "4d9f5edd-5902-45e7-bb93-5f734195d22d",
   "metadata": {},
   "outputs": [],
   "source": [
    "# An invalid date\n",
    "Date.from_iso8601(\"2020-02-30\")"
   ]
  },
  {
   "cell_type": "markdown",
   "id": "85a3d021-2e54-4f77-bb0b-7e30097a9929",
   "metadata": {},
   "source": [
    "Now, what happens if we want our code to behave differently depending\n",
    "if the date is valid or not? We can use `case` to pattern match on\n",
    "the different tuples. This is also a good opportunity to use Livebook's\n",
    "inputs to pass different values to our code:"
   ]
  },
  {
   "cell_type": "markdown",
   "id": "e9c8580b-843d-45a6-9cc3-2142c642f5c9",
   "metadata": {},
   "source": [
    "```ruby\n",
    "# Read the date input, which returns something like \"2020-02-30\\n\"\n",
    "input = IO.gets(\"Date: \")\n",
    "\n",
    "# So we trim the newline from the input value\n",
    "trimmed = String.trim(input)\n",
    "\n",
    "# And then match on the return value\n",
    "case Date.from_iso8601(trimmed) do\n",
    "  {:ok, date} ->\n",
    "    \"We got a valid date: #{inspect(date)}\"\n",
    "\n",
    "  {:error, reason} ->\n",
    "    \"Oh no, the date is invalid. Reason: #{inspect(reason)}\"\n",
    "end\n",
    "```"
   ]
  },
  {
   "cell_type": "markdown",
   "id": "60099fce-5680-434a-a634-891b111d6c7f",
   "metadata": {},
   "source": [
    "We have been using `IO.inspect` to write values out of the notebook\n",
    "and here we used `IO.gets` to read data in. The string passed to\n",
    "`IO.gets` must have the same suffix as the input name. The returned\n",
    "string is always appended with a newline. Then we remove the trailing new\n",
    "line and use `case` to pattern match on the different outcomes of the\n",
    "`Date.from_iso8601` function. We say the `case` above has two clauses,\n",
    "one matching on `{:ok, date}` and another on `{:error, reason}`.\n",
    "Try changing the input and re-executing the cell to see how the outcome\n",
    "changes.\n",
    "\n",
    "Finally, we can also pattern match on maps. This is used to extract the\n",
    "values for the given keys:"
   ]
  },
  {
   "cell_type": "code",
   "execution_count": null,
   "id": "6a367c69-1514-443a-a772-2a85160047c0",
   "metadata": {},
   "outputs": [],
   "source": [
    "map = %{:elixir => :functional, :python => :object_oriented}\n",
    "%{:elixir => type} = map"
   ]
  },
  {
   "cell_type": "markdown",
   "id": "fbfe405a-ed1b-4949-ac60-76ec6cb245b1",
   "metadata": {},
   "source": [
    "If the key does not exist on the map, it raises:"
   ]
  },
  {
   "cell_type": "code",
   "execution_count": null,
   "id": "dfef6d3c-20d9-44b9-bc34-76a1a10ab748",
   "metadata": {},
   "outputs": [],
   "source": [
    "%{:c => type} = map"
   ]
  },
  {
   "cell_type": "markdown",
   "id": "d6fa4112-2ccb-484d-ab15-a9bbff164260",
   "metadata": {},
   "source": [
    "With pattern matching out of the way, we are ready to start our Portal\n",
    "implementation!"
   ]
  },
  {
   "cell_type": "markdown",
   "id": "e8694448-031e-41fe-b592-38b63da840d1",
   "metadata": {
    "tags": []
   },
   "source": [
    "## Modeling portal doors with Agents"
   ]
  },
  {
   "cell_type": "markdown",
   "id": "c0ba4158-2128-4973-a443-7aaca0ec6f62",
   "metadata": {},
   "source": [
    "Elixir data structures are immutable. In the examples above, we never\n",
    "mutated the list. We can break a list apart or add new elements to the\n",
    "head, but the original list is never modified.\n",
    "\n",
    "That said, when we need to keep some sort of state, like the data\n",
    "transfering through a portal, we must use an abstraction that stores\n",
    "this state for us. One such abstraction in Elixir is called an agent.\n",
    "Before we use agents, we need to briefly talk about anonymous functions.\n",
    "\n",
    "Anonymous functions are a mechanism to represent pieces of code that we\n",
    "can pass around and execute later on:adder = fn a, b -> a + b end"
   ]
  },
  {
   "cell_type": "code",
   "execution_count": null,
   "id": "9ea4218c-5321-4d5d-a912-6bbf1f841f08",
   "metadata": {},
   "outputs": [],
   "source": [
    "adder = fn a, b -> a + b end"
   ]
  },
  {
   "cell_type": "markdown",
   "id": "a345522f-8f24-4b77-be48-5dcccd0c19e7",
   "metadata": {},
   "source": [
    "An anonymous function is delimited by the words `fn` and `end` and an\n",
    "arrow `->` is used to separate the arguments from the anonymous function\n",
    "body. We can now call the anonymous function above multiple times by\n",
    "providing two numbers as inputs:"
   ]
  },
  {
   "cell_type": "code",
   "execution_count": null,
   "id": "2e080ca2-2a7b-463a-8fff-7205cb9ae59e",
   "metadata": {},
   "outputs": [],
   "source": [
    "adder.(1, 2)"
   ]
  },
  {
   "cell_type": "code",
   "execution_count": null,
   "id": "bd2699ff-232d-41a8-b8d7-f7cbbbd35660",
   "metadata": {},
   "outputs": [],
   "source": [
    "adder.(3, 5)"
   ]
  },
  {
   "cell_type": "markdown",
   "id": "8b2918f9-6955-43e5-a90c-1c97010905d8",
   "metadata": {},
   "source": [
    "In Elixir, we also use anonymous functions to initialize, get, and update\n",
    "the agent state:"
   ]
  },
  {
   "cell_type": "code",
   "execution_count": null,
   "id": "83737548-4423-48cc-a022-710e26d54eb8",
   "metadata": {},
   "outputs": [],
   "source": [
    "{:ok, agent} = Agent.start_link(fn -> [] end)"
   ]
  },
  {
   "cell_type": "markdown",
   "id": "5c7113a1-e24b-4ac7-baa2-ce647140b581",
   "metadata": {},
   "source": [
    "In the example above, we created a new agent, passing a function that\n",
    "returns the initial state of an empty list. The agent returns\n",
    "`{:ok, #PID<...>}`, where PID stands for a process identifier, which\n",
    "uniquely identifies the agent. Elixir has many abstractions for concurrency,\n",
    "such as agents, tasks, generic servers, but at the end of the day they all\n",
    "boil down to processes. When we say processes in Elixir, we don't mean\n",
    "Operating System processes, but rather Elixir Processes, which are lightweight\n",
    "and isolated, allowing us to run hundreds of thousands of them on the same\n",
    "machine."
   ]
  },
  {
   "cell_type": "markdown",
   "id": "e54fd173-7b4a-4dc7-a942-d8765668b412",
   "metadata": {},
   "source": [
    "We store the agent's PID in the `agent` variable, which allows us to\n",
    "send messages to get the agent's state:"
   ]
  },
  {
   "cell_type": "code",
   "execution_count": null,
   "id": "85825064-ed2b-4bd2-af7e-dc472bc1fee5",
   "metadata": {},
   "outputs": [],
   "source": [
    "Agent.get(agent, fn list -> list end)"
   ]
  },
  {
   "cell_type": "markdown",
   "id": "f03e93f8-3d17-4436-ad50-78aefdb5ecdc",
   "metadata": {},
   "source": [
    "As well as update it before reading again:"
   ]
  },
  {
   "cell_type": "code",
   "execution_count": null,
   "id": "6e4c08e8-4787-4862-a735-6df3fdd89258",
   "metadata": {},
   "outputs": [],
   "source": [
    "Agent.update(agent, fn list -> [0 | list] end)\n",
    "Agent.get(agent, fn list -> list end)"
   ]
  },
  {
   "cell_type": "markdown",
   "id": "f20bdf84-4240-437f-99d6-a7ccfd6edf8b",
   "metadata": {},
   "source": [
    "We will use agents to implement our portal doors.\n",
    "\n",
    "Whenever we need to encapsulate logic in Elixir, we create modules,\n",
    "which are essentially a collection of functions. We define modules\n",
    "with `defmodule` and functions with `def`. Our functions will\n",
    "encapsulate the logic to interact with the agent, using the API we\n",
    "learned in the cells above:"
   ]
  },
  {
   "cell_type": "code",
   "execution_count": null,
   "id": "dcb9170c-e69f-4d99-ba41-148baeef24e3",
   "metadata": {},
   "outputs": [],
   "source": [
    "defmodule Portal.Door do\n",
    "  use Agent\n",
    "\n",
    "  def start_link(color) when is_atom(color) do\n",
    "    Agent.start_link(fn -> [] end, name: color)\n",
    "  end\n",
    "\n",
    "  def get(door) do\n",
    "    Agent.get(door, fn list -> list end)\n",
    "  end\n",
    "\n",
    "  def push(door, value) do\n",
    "    Agent.update(door, fn list -> [value | list] end)\n",
    "  end\n",
    "\n",
    "  def pop(door) do\n",
    "    Agent.get_and_update(door, fn list ->\n",
    "      case list do\n",
    "        [h | t] -> {{:ok, h}, t}\n",
    "        [] -> {:error, []}\n",
    "      end\n",
    "    end)\n",
    "  end\n",
    "\n",
    "  def stop(door) do\n",
    "    Agent.stop(door)\n",
    "  end\n",
    "end"
   ]
  },
  {
   "cell_type": "markdown",
   "id": "fc51c91f-35f6-4898-aa4d-e23201cf905b",
   "metadata": {},
   "source": [
    "We declare a module by giving it a name, in this case, `Portal.Door`.\n",
    "At the top of the module, we say `use Agent`, which brings some\n",
    "`Agent`-related functionality into the module.\n",
    "\n",
    "The first function is `start_link`, which we often refer to as\n",
    "`start_link/1`, where the number 1 is called the \"arity\" of the\n",
    "function and it indicates the number of arguments it receives.\n",
    "Then we check that the argument is an atom and proceed to call\n",
    "`Agent.start_link/2`, as we did earlier in this section, except we are\n",
    "now passing `name: color` as an argument. By giving a name to the\n",
    "Agent, we can refer to it anywhere by its name, instead of using its\n",
    "PID.\n",
    "\n",
    "The next two functions, `get/1` and `push/2` perform simple operation\n",
    "to the agent, reading its state and adding a new element respectively."
   ]
  },
  {
   "cell_type": "markdown",
   "id": "f3df7325-7fb3-4235-9431-1de38fa18d9c",
   "metadata": {},
   "source": [
    "Let's take a look at them:"
   ]
  },
  {
   "cell_type": "code",
   "execution_count": null,
   "id": "2aead326-f7a0-440b-af9e-293f81ae5246",
   "metadata": {},
   "outputs": [],
   "source": [
    "Portal.Door.start_link(:pink)\n",
    "Portal.Door.get(:pink)"
   ]
  },
  {
   "cell_type": "markdown",
   "id": "ea0de10d-6cc5-48d9-9357-378ef53eb96f",
   "metadata": {},
   "source": [
    "Note how we didn't need to store the PID anywhere and we can use the\n",
    "atom `:pink` to refer to the door and read its state. If the door\n",
    "already exists, and we try to start another one with the same name,\n",
    "it returns an `{:error, reason}` tuple instead of `{:ok, pid}`:"
   ]
  },
  {
   "cell_type": "code",
   "execution_count": null,
   "id": "172d2d93-7f3c-4fd9-af82-93b80b3438e2",
   "metadata": {},
   "outputs": [],
   "source": [
    "Portal.Door.start_link(:pink)"
   ]
  },
  {
   "cell_type": "markdown",
   "id": "ac78d135-f2b6-428c-9e60-e11c53549324",
   "metadata": {},
   "source": [
    "Next, let's push some events:"
   ]
  },
  {
   "cell_type": "code",
   "execution_count": null,
   "id": "87bb83cf-c0df-4bae-8939-47fac2a26441",
   "metadata": {},
   "outputs": [],
   "source": [
    "Portal.Door.push(:pink, 1)\n",
    "Portal.Door.push(:pink, 2)\n",
    "Portal.Door.get(:pink)"
   ]
  },
  {
   "cell_type": "markdown",
   "id": "fd542f51-b9f7-4498-ba1c-c2fd01510561",
   "metadata": {},
   "source": [
    "We pushed some events and they show up in our state. Although, note\n",
    "they appear in reverse order. That's because we are always adding\n",
    "new entries to the top of the list."
   ]
  },
  {
   "cell_type": "markdown",
   "id": "dbbd7677-34dd-426c-82d6-6419199a246b",
   "metadata": {},
   "source": [
    "The fourth function we defined is called `pop/1`. If there is any\n",
    "item in the agent, it takes the head of the list and returns it\n",
    "wrapped in a `{:ok, value}` tuple. However, if the list is empty,\n",
    "it returns `:error`."
   ]
  },
  {
   "cell_type": "code",
   "execution_count": null,
   "id": "ced347a6-76e3-4e42-acb0-1eca6da4c863",
   "metadata": {},
   "outputs": [],
   "source": [
    "IO.inspect(Portal.Door.pop(:pink))\n",
    "IO.inspect(Portal.Door.pop(:pink))\n",
    "IO.inspect(Portal.Door.pop(:pink))\n",
    "\n",
    "Portal.Door.get(:pink)"
   ]
  },
  {
   "cell_type": "markdown",
   "id": "30f41bd2-fe0d-49d6-899e-e67862bd2cd7",
   "metadata": {},
   "source": [
    "Finally, the last function, `stop/1`, simply terminates the agent,\n",
    "effectively closing the door. Let's try it:"
   ]
  },
  {
   "cell_type": "code",
   "execution_count": null,
   "id": "1eab4caa-4399-44f5-8fd8-3b04db34d4b3",
   "metadata": {},
   "outputs": [],
   "source": [
    "Portal.Door.stop(:pink)"
   ]
  },
  {
   "cell_type": "markdown",
   "id": "e792e112-11fd-4bf2-8d2d-a999a1943018",
   "metadata": {},
   "source": [
    "Now, if we try to do anything with it, it will raise:"
   ]
  },
  {
   "cell_type": "code",
   "execution_count": null,
   "id": "84b4920e-b4f7-4992-86e4-0a8839c5d0b0",
   "metadata": {},
   "outputs": [],
   "source": [
    "Portal.Door.get(:pink)"
   ]
  },
  {
   "cell_type": "markdown",
   "id": "8d188fba-396c-4ca1-be6f-8102684e8997",
   "metadata": {},
   "source": [
    "Note the error message points out why the operation did not work, great!"
   ]
  },
  {
   "cell_type": "markdown",
   "id": "b6643ed5-f3b5-4044-a3fe-4f1d7c224332",
   "metadata": {
    "tags": []
   },
   "source": [
    "## Portal transfers"
   ]
  },
  {
   "cell_type": "markdown",
   "id": "18327c2d-deed-4b0c-af76-85aa33eb2bc8",
   "metadata": {},
   "source": [
    "Our portal doors are ready so it is time to start working on portal\n",
    "transfers! In order to store the portal data, we are going to create a\n",
    "struct named `Portal`. Let's first learn what structs are about."
   ]
  },
  {
   "cell_type": "markdown",
   "id": "1f315f86-f5c1-47f4-a349-f92e1d245e0c",
   "metadata": {},
   "source": [
    "Structs define data structures with pre-defined keys. The keys are verified\n",
    "at compilation time, so if you make a typo in the key name, you get an error\n",
    "early on. Structs are defined inside modules, by calling the `defstruct` with\n",
    "a list of atom keys. Let's define a `User` struct with the fields `:name`\n",
    "and `:age`:"
   ]
  },
  {
   "cell_type": "code",
   "execution_count": null,
   "id": "6b4dfc5d-ad6e-4f79-95a2-7b2a5de8f71e",
   "metadata": {},
   "outputs": [],
   "source": [
    "defmodule User do\n",
    "  defstruct [:name, :age]\n",
    "end"
   ]
  },
  {
   "cell_type": "markdown",
   "id": "a4ecad73-5614-46d8-9983-0a56b21f4b84",
   "metadata": {},
   "source": [
    "Now, we can create structs using the `%User{...}` notation:"
   ]
  },
  {
   "cell_type": "code",
   "execution_count": null,
   "id": "11f54eee-c348-46ba-9ef9-7624c45dc87a",
   "metadata": {},
   "outputs": [],
   "source": [
    "user = %User{name: \"john doe\", age: 27}"
   ]
  },
  {
   "cell_type": "markdown",
   "id": "16fb24ad-6610-4866-9459-3f93cd037843",
   "metadata": {},
   "source": [
    "We can access struct fields using the `struct.field` syntax:"
   ]
  },
  {
   "cell_type": "code",
   "execution_count": null,
   "id": "51b4c70b-faa7-4c5f-8d1d-bf827aea5682",
   "metadata": {},
   "outputs": [],
   "source": [
    "user.name"
   ]
  },
  {
   "cell_type": "markdown",
   "id": "910379aa-13a9-4308-89a3-6f4207104167",
   "metadata": {},
   "source": [
    "We can pattern match on structs too:"
   ]
  },
  {
   "cell_type": "code",
   "execution_count": null,
   "id": "2eb0218b-9e41-4800-8eeb-2e2664e6dd19",
   "metadata": {},
   "outputs": [],
   "source": [
    "%User{age: age} = user\n",
    "age"
   ]
  },
  {
   "cell_type": "markdown",
   "id": "4918f51f-79f3-4a97-9b6d-549bf40a521a",
   "metadata": {},
   "source": [
    "Finally, let's see what happens if we do a typo in a field:"
   ]
  },
  {
   "cell_type": "code",
   "execution_count": null,
   "id": "8d16dc92-3542-45da-9338-1ea0759c954e",
   "metadata": {},
   "outputs": [],
   "source": [
    "%User{agee: age} = user"
   ]
  },
  {
   "cell_type": "markdown",
   "id": "4102be37-8cb5-4f04-86d5-85dd54265765",
   "metadata": {},
   "source": [
    "Now we are ready to define our `Portal` struct. It will have\n",
    "two fields, `:left` and `:right`, which point respectively to\n",
    "the portal door on the left and the door on the right. Our goal\n",
    "is to transfer data from the left door to the right one. The\n",
    "`Portal` module, where we define our struct, will also have\n",
    "four other functions:\n",
    "\n",
    "  * `shoot(color)` - shoots a door of the given color. This is\n",
    "    a wrapper around `Portal.Door.start_link/1`\n",
    "\n",
    "  * `transfer(left_door, right_door, data)` - starts a transfer\n",
    "    by loading the given `data` to `left_door` and returns a\n",
    "    `Portal` struct\n",
    "\n",
    "  * `push_right(portal)` - receives a portal and continues the\n",
    "    transfer by pushing data from the left to the right\n",
    "\n",
    "  * `close(portal)` - closes the portal by explicitly stopping\n",
    "    both doors"
   ]
  },
  {
   "cell_type": "markdown",
   "id": "494f509b-813a-43d5-8092-63061e17256e",
   "metadata": {},
   "source": [
    "Let's implement them:"
   ]
  },
  {
   "cell_type": "code",
   "execution_count": null,
   "id": "68a2ab9f-031b-4b06-9976-ce4c7bf76d58",
   "metadata": {},
   "outputs": [],
   "source": [
    "defmodule Portal do\n",
    "  defstruct [:left, :right]\n",
    "\n",
    "  def shoot(color) do\n",
    "    Portal.Door.start_link(color)\n",
    "  end\n",
    "\n",
    "  def transfer(left_door, right_door, data) do\n",
    "    # First add all data to the portal on the left\n",
    "    for item <- data do\n",
    "      Portal.Door.push(left_door, item)\n",
    "    end\n",
    "\n",
    "    # Returns a portal struct with the doors\n",
    "    %Portal{left: left_door, right: right_door}\n",
    "  end\n",
    "\n",
    "  def push_right(portal) do\n",
    "    # See if we can pop data from left. If so, push the\n",
    "    # popped data to the right. Otherwise, do nothing.\n",
    "    case Portal.Door.pop(portal.left) do\n",
    "      :error   -> :ok\n",
    "      {:ok, h} -> Portal.Door.push(portal.right, h)\n",
    "    end\n",
    "\n",
    "    # Let's return the portal itself\n",
    "    portal\n",
    "  end\n",
    "\n",
    "  def close(portal) do\n",
    "    Portal.Door.stop(portal.left)\n",
    "    Portal.Door.stop(portal.right)\n",
    "    :ok\n",
    "  end\n",
    "end"
   ]
  },
  {
   "cell_type": "markdown",
   "id": "8028fbdb-ba35-43a2-b212-52e6cf9cadb6",
   "metadata": {},
   "source": [
    "The `Portal` modules defines a struct followed by a `shoot/1` function.\n",
    "The function is just a wrapper around `Portal.Door.start_link/1`. Then\n",
    "we define the `transfer/3` function, which loads the given data into the\n",
    "left door and returns a Portal struct. Finally, `push_right/3` gets data\n",
    "from the door on the left and puts it on the right door. Let's give it a try:"
   ]
  },
  {
   "cell_type": "code",
   "execution_count": null,
   "id": "f5fa997f-456e-4583-8f25-10fc615a0b51",
   "metadata": {},
   "outputs": [],
   "source": [
    "Portal.shoot(:orange)\n",
    "Portal.shoot(:blue)\n",
    "portal = Portal.transfer(:orange, :blue, [1, 2, 3])"
   ]
  },
  {
   "cell_type": "markdown",
   "id": "da0d6421-0af5-4ef8-a4fc-de56390dea04",
   "metadata": {},
   "source": [
    "The above returns the `%Portal{}` struct. We can check the data has been\n",
    "loaded into the left door:"
   ]
  },
  {
   "cell_type": "code",
   "execution_count": null,
   "id": "eb0aa85e-5d0e-4153-82bc-6a29159e6f96",
   "metadata": {},
   "outputs": [],
   "source": [
    "Portal.Door.get(:orange)"
   ]
  },
  {
   "cell_type": "markdown",
   "id": "56cb9c3f-5570-44f5-89b9-6ebbd9ff2bd7",
   "metadata": {},
   "source": [
    "Note the list is reversed - and we knew that! - as we always add items\n",
    "on the top. But we will use that to our advantage soon. Let's start pushing\n",
    "data to the right:"
   ]
  },
  {
   "cell_type": "code",
   "execution_count": null,
   "id": "7f8baeb4-d3e0-4e8d-9a43-b33209e471d9",
   "metadata": {},
   "outputs": [],
   "source": [
    "Portal.push_right(portal)\n",
    "Portal.Door.get(:blue)"
   ]
  },
  {
   "cell_type": "markdown",
   "id": "369a9122-0bc9-41e9-a997-2ca4f953a25e",
   "metadata": {},
   "source": [
    "Since the list is reversed, we can see that we pushed the number `3`\n",
    "to the right, which is exactly what we expected. If you reevaluate the\n",
    "cell above, you will see data moving to the right, as our portal doors\n",
    "are stateful."
   ]
  },
  {
   "cell_type": "markdown",
   "id": "9c2b167b-dc0b-435a-af15-3c94e45a5c21",
   "metadata": {},
   "source": [
    "Our portal transfer seems to work as expected! Now let's clean up and\n",
    "close the transfer:"
   ]
  },
  {
   "cell_type": "code",
   "execution_count": null,
   "id": "f06e503d-ed68-4aa5-b7b4-2631f038176d",
   "metadata": {},
   "outputs": [],
   "source": [
    "Portal.close(portal)"
   ]
  },
  {
   "cell_type": "markdown",
   "id": "a807016b-78e3-4cf8-9f18-cca2be9d66f5",
   "metadata": {},
   "source": [
    "We have made some good progress in our implementation, so now let's work\n",
    "a bit on the presentation. Currently, the Portal is printed as a struct:\n",
    "`%Portal{left: :orange, right: :blue}`. It would be nice if we actually\n",
    "had a printed representation of the portal transfer, allowing us to see\n",
    "the portal processes as we push data."
   ]
  },
  {
   "cell_type": "markdown",
   "id": "27472a29-d4b8-4f25-814c-8f2bce88fc2a",
   "metadata": {},
   "source": [
    "## Inspecting portals with Protocols"
   ]
  },
  {
   "cell_type": "markdown",
   "id": "4fafb425-1e0c-4e02-a574-a64350916595",
   "metadata": {},
   "source": [
    "We already know that Elixir data structures data can be printed by Livebook.\n",
    "After all, when we type `1 + 2`, we get `3` back. However, can we customize\n",
    "how our own data structures are printed?\n",
    "\n",
    "Yes, we can! Elixir provides protocols, which allows behaviour to be extended\n",
    "and implemented for any data type, like our `Portal` struct, at any time.\n",
    "\n",
    "For example, every time something is printed in Livebook, or in Elixir's\n",
    "terminal, Elixir uses the `Inspect` protocol. Since protocols can be extended\n",
    "at any time, by any data type, it means we can implement it for `Portal` too.\n",
    "We do so by calling `defimpl/2`, passing the protocol name and the data\n",
    "structure we want to implement the protocol for."
   ]
  },
  {
   "cell_type": "markdown",
   "id": "6511dadc-0505-442e-b7e8-939189950289",
   "metadata": {},
   "source": [
    "Let's do it:"
   ]
  },
  {
   "cell_type": "code",
   "execution_count": null,
   "id": "0fb1891a-7e40-40bf-a5f3-eaca29a70097",
   "metadata": {},
   "outputs": [],
   "source": [
    "defimpl Inspect, for: Portal do\n",
    "  def inspect(%Portal{left: left, right: right}, _) do\n",
    "    left_door  = inspect(left)\n",
    "    right_door = inspect(right)\n",
    "\n",
    "    left_data  = inspect(Enum.reverse(Portal.Door.get(left)))\n",
    "    right_data = inspect(Portal.Door.get(right))\n",
    "\n",
    "    max = max(String.length(left_door), String.length(left_data))\n",
    "\n",
    "    \"\"\"\n",
    "    #Portal<\n",
    "      #{String.pad_leading(left_door, max)} <=> #{right_door}\n",
    "      #{String.pad_leading(left_data, max)} <=> #{right_data}\n",
    "    >\\\n",
    "    \"\"\"\n",
    "  end\n",
    "end"
   ]
  },
  {
   "cell_type": "markdown",
   "id": "d6bf04de-9da9-4c77-b489-1109ff9a3676",
   "metadata": {},
   "source": [
    "In the snippet above, we have implemented the `Inspect` protocol for the\n",
    "`Portal` struct. The protocol expects one function named `inspect` to be\n",
    "implemented. The function expects two arguments, the first is the `Portal`\n",
    "struct itself and the second is a set of options, which we don't care about\n",
    "for now.\n",
    "\n",
    "Then we call `inspect` multiple times, to get a text representation of both\n",
    "`left` and `right` doors, as well as to get a representation of the data\n",
    "inside the doors. Finally, we return a string containing the portal presentation\n",
    "properly aligned."
   ]
  },
  {
   "cell_type": "markdown",
   "id": "34c75c65-3115-4957-a1d8-7f0f622f0739",
   "metadata": {},
   "source": [
    "That's all we need! Let's start a new transfer and see how it goes:"
   ]
  },
  {
   "cell_type": "code",
   "execution_count": null,
   "id": "74ae36ab-f8a5-451a-85d0-9bcf4af68c64",
   "metadata": {},
   "outputs": [],
   "source": [
    "Portal.shoot(:red)\n",
    "Portal.shoot(:purple)\n",
    "portal = Portal.transfer(:red, :purple, [1, 2, 3])"
   ]
  },
  {
   "cell_type": "markdown",
   "id": "c79fdcf7-95ab-4be9-b8bf-6fc1b48bf79f",
   "metadata": {},
   "source": [
    "Sweet! Look how Livebook automatically picked up the new representation.\n",
    "Now feel free to call `push_right` and see what happens:"
   ]
  },
  {
   "cell_type": "code",
   "execution_count": null,
   "id": "065d83b5-1872-418b-aec5-c1b46e0e3cb1",
   "metadata": {},
   "outputs": [],
   "source": [
    "Portal.push_right(portal)"
   ]
  },
  {
   "cell_type": "markdown",
   "id": "d668824f-d112-4274-8cdd-3b9c2d846f57",
   "metadata": {},
   "source": [
    "Feel free to reevaluate the cell above a couple times. Once you are done,\n",
    "run the cell below to clean it all up and close the portal:"
   ]
  },
  {
   "cell_type": "code",
   "execution_count": null,
   "id": "bc9f5db4-92be-4f81-9214-95f8d45e7834",
   "metadata": {
    "tags": []
   },
   "outputs": [],
   "source": [
    "Portal.close(portal)"
   ]
  }
 ],
 "metadata": {
  "kernelspec": {
   "display_name": "Elixir",
   "language": "Elixir",
   "name": "ielixir"
  },
  "language_info": {
   "codemirror_mode": "ielixir",
   "file_extension": "ex",
   "mimetype": "text/x-ielixir",
   "name": "elixir",
   "nbconvert_exporter": "",
   "pygments_lexer": "elixir",
   "version": "1.12.3"
  }
 },
 "nbformat": 4,
 "nbformat_minor": 5
}
